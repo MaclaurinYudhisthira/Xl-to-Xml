{
 "cells": [
  {
   "cell_type": "code",
   "execution_count": 1,
   "id": "9a790065",
   "metadata": {},
   "outputs": [],
   "source": [
    "import pandas as pd"
   ]
  },
  {
   "cell_type": "code",
   "execution_count": 2,
   "id": "b4e72c73",
   "metadata": {},
   "outputs": [
    {
     "name": "stdout",
     "output_type": "stream",
     "text": [
      "Enter input file path:./test.xlsx\n",
      "Enter output file path:./test.xml\n",
      "Enter operation name:CreateIncident\n"
     ]
    }
   ],
   "source": [
    "input_file_path=input(\"Enter input file path:\") #./test.xlsx\n",
    "output_file_path=input(\"Enter output file path:\") #./test.xml\n",
    "operation_name=input(\"Enter operation name:\") # CreateIncident\n",
    "\n",
    "df=pd.read_excel(input_file_path)\n",
    "fields=df.columns\n",
    "\n",
    "output_string='<?xml version=\"1.0\" encoding=\"UTF-8\"?>\\n<data>'\n",
    "for index, operation in df.iterrows():\n",
    "    output_string+=f'\\n\\t<operation name=\"{operation_name+str(index)}\">'\n",
    "    for field in fields:\n",
    "        output_string+=f'\\n\\t\\t<fields>\\n\\t\\t\\t<label>{field}</label>\\n\\t\\t\\t<value>{operation[field]}</value>\\n\\t\\t</fields>'\n",
    "    output_string+='\\n\\t</operation>'\n",
    "output_string+='\\n<data>\\n'\n",
    "\n",
    "f = open(output_file_path, \"w\")\n",
    "f.write(output_string)\n",
    "f.close()"
   ]
  },
  {
   "cell_type": "code",
   "execution_count": null,
   "id": "3b9bbaf1",
   "metadata": {},
   "outputs": [],
   "source": []
  },
  {
   "cell_type": "code",
   "execution_count": null,
   "id": "3e9ca2e0",
   "metadata": {},
   "outputs": [],
   "source": []
  },
  {
   "cell_type": "code",
   "execution_count": null,
   "id": "05ab2c92",
   "metadata": {},
   "outputs": [],
   "source": []
  },
  {
   "cell_type": "code",
   "execution_count": null,
   "id": "26d8eabd",
   "metadata": {},
   "outputs": [],
   "source": []
  },
  {
   "cell_type": "code",
   "execution_count": null,
   "id": "57e75a48",
   "metadata": {},
   "outputs": [],
   "source": []
  }
 ],
 "metadata": {
  "kernelspec": {
   "display_name": "Python 3 (ipykernel)",
   "language": "python",
   "name": "python3"
  },
  "language_info": {
   "codemirror_mode": {
    "name": "ipython",
    "version": 3
   },
   "file_extension": ".py",
   "mimetype": "text/x-python",
   "name": "python",
   "nbconvert_exporter": "python",
   "pygments_lexer": "ipython3",
   "version": "3.9.7"
  }
 },
 "nbformat": 4,
 "nbformat_minor": 5
}
